{
  "nbformat": 4,
  "nbformat_minor": 0,
  "metadata": {
    "colab": {
      "name": "cnn_classification_test.ipynb",
      "provenance": [],
      "collapsed_sections": [],
      "authorship_tag": "ABX9TyMZIBdQ9hxGuVutNVhWG0rC",
      "include_colab_link": true
    },
    "kernelspec": {
      "name": "python3",
      "display_name": "Python 3"
    },
    "accelerator": "GPU"
  },
  "cells": [
    {
      "cell_type": "markdown",
      "metadata": {
        "id": "view-in-github",
        "colab_type": "text"
      },
      "source": [
        "<a href=\"https://colab.research.google.com/github/Pin9u/pythonpractice/blob/master/cnn_classification_test.ipynb\" target=\"_parent\"><img src=\"https://colab.research.google.com/assets/colab-badge.svg\" alt=\"Open In Colab\"/></a>"
      ]
    },
    {
      "cell_type": "code",
      "metadata": {
        "id": "vfH4KsVxyFeA",
        "colab_type": "code",
        "colab": {}
      },
      "source": [
        "import tensorflow as tf\n",
        "import keras \n",
        "\n",
        "from keras.models import Sequential\n",
        "from keras.layers import Conv2D, MaxPooling2D, Dense, Flatten, AveragePooling2D\n",
        "from keras.optimizers import Adam\n",
        "from keras.losses import sparse_categorical_crossentropy as scc\n",
        "from keras.datasets import cifar10\n",
        "\n",
        "import numpy as np"
      ],
      "execution_count": 13,
      "outputs": []
    },
    {
      "cell_type": "code",
      "metadata": {
        "id": "D0a6foXRyM0w",
        "colab_type": "code",
        "colab": {}
      },
      "source": [
        "def build_model(width, height, channel):\n",
        "    model = Sequential()\n",
        "    \n",
        "    model.add(Conv2D(\n",
        "        filters=16,\n",
        "        kernel_size=(3,3),\n",
        "        padding='same',\n",
        "        activation='relu',\n",
        "        input_shape=(width, height, channel)\n",
        "    ))\n",
        "    model.add(Conv2D(\n",
        "        filters=16,\n",
        "        kernel_size=(3,3),\n",
        "        padding='same',\n",
        "        activation='relu'\n",
        "    ))\n",
        "    model.add(MaxPooling2D(\n",
        "        pool_size=(2,2),\n",
        "        padding='same'\n",
        "    ))\n",
        "\n",
        "    model.add(Conv2D(\n",
        "        filters=32,\n",
        "        kernel_size=(3,3),\n",
        "        padding='same',\n",
        "        activation='relu'\n",
        "    ))\n",
        "    model.add(MaxPooling2D(\n",
        "        pool_size=(2,2),\n",
        "        padding='same'\n",
        "    ))\n",
        "\n",
        "    model.add(Conv2D(\n",
        "        filters=64,\n",
        "        kernel_size=(3,3),\n",
        "        padding='same',\n",
        "        activation='relu'\n",
        "    ))\n",
        "    model.add(AveragePooling2D(\n",
        "        pool_size=(8,8),\n",
        "        padding='same'\n",
        "    ))\n",
        "\n",
        "    model.add(Flatten())\n",
        "    model.add(Dense(\n",
        "        units=640,\n",
        "        activation='relu'\n",
        "    ))\n",
        "    model.add(Dense(\n",
        "        units=10,\n",
        "        activation='softmax'\n",
        "    ))\n",
        "\n",
        "    opt = Adam(learning_rate=0.001)\n",
        "    model.compile(\n",
        "        optimizer=opt,\n",
        "        loss=scc,\n",
        "        metrics=['accuracy']\n",
        "    )\n",
        "\n",
        "    return model\n"
      ],
      "execution_count": 14,
      "outputs": []
    },
    {
      "cell_type": "code",
      "metadata": {
        "id": "XP2cI-XUyPjw",
        "colab_type": "code",
        "colab": {}
      },
      "source": [
        "def data_preprocessing():\n",
        "    (X_train, Y_train), (X_test, Y_test) = cifar10.load_data()\n",
        "\n",
        "    mean=[0,0,0]\n",
        "    std=[0,0,0]\n",
        "    newX_train = np.ones(X_train.shape)\n",
        "    newX_test = np.ones(X_test.shape)\n",
        "    #train set에 있는 데이터로만 평균과 표준편차를 구함\n",
        "    for i in range(3):\n",
        "        mean[i] = np.mean(X_train[:,:,:,i])\n",
        "        std[i] = np.std(X_train[:,:,:,i])\n",
        "\n",
        "    #train과 test셋 모두 정규화 작업    \n",
        "    for i in range(3):\n",
        "        newX_train[:,:,:,i] = X_train[:,:,:,i] - mean[i]\n",
        "        newX_train[:,:,:,i] = newX_train[:,:,:,i] / std[i]\n",
        "        newX_test[:,:,:,i] = X_test[:,:,:,i] - mean[i]\n",
        "        newX_test[:,:,:,i] = newX_test[:,:,:,i] / std[i]\n",
        "            \n",
        "    X_train = newX_train\n",
        "    X_test = newX_test\n",
        "\n",
        "    return (X_train, Y_train), (X_test, Y_test)\n"
      ],
      "execution_count": 15,
      "outputs": []
    },
    {
      "cell_type": "code",
      "metadata": {
        "id": "1Nh2ayxmyRhg",
        "colab_type": "code",
        "colab": {
          "base_uri": "https://localhost:8080/",
          "height": 1000
        },
        "outputId": "be30fa87-c66b-48f4-b999-a8eb67e2a1c6"
      },
      "source": [
        "#(X_train, Y_train), (X_test, Y_test) = data_preprocessing()\n",
        "(X_train, Y_train), (X_test, Y_test) = cifar10.load_data()\n",
        "\n",
        "\n",
        "model = build_model(X_train.shape[1],X_train.shape[2],X_train.shape[3] )\n",
        "\n",
        "hist = model.fit(\n",
        "    X_train, Y_train, \n",
        "    batch_size=64, epochs=30, \n",
        "    verbose=1, \n",
        "    shuffle=True, validation_split=0.01\n",
        ")\n",
        "\n",
        "model.evaluate(X_test, Y_test, verbose=1)"
      ],
      "execution_count": 16,
      "outputs": [
        {
          "output_type": "stream",
          "text": [
            "Epoch 1/30\n",
            "774/774 [==============================] - 6s 7ms/step - loss: 1.6054 - accuracy: 0.4092 - val_loss: 1.3270 - val_accuracy: 0.5240\n",
            "Epoch 2/30\n",
            "774/774 [==============================] - 5s 7ms/step - loss: 1.2273 - accuracy: 0.5569 - val_loss: 1.2154 - val_accuracy: 0.5480\n",
            "Epoch 3/30\n",
            "774/774 [==============================] - 5s 7ms/step - loss: 1.0738 - accuracy: 0.6146 - val_loss: 1.1142 - val_accuracy: 0.6240\n",
            "Epoch 4/30\n",
            "774/774 [==============================] - 5s 7ms/step - loss: 0.9712 - accuracy: 0.6535 - val_loss: 0.9890 - val_accuracy: 0.6920\n",
            "Epoch 5/30\n",
            "774/774 [==============================] - 5s 7ms/step - loss: 0.9025 - accuracy: 0.6817 - val_loss: 1.1093 - val_accuracy: 0.6340\n",
            "Epoch 6/30\n",
            "774/774 [==============================] - 5s 7ms/step - loss: 0.8493 - accuracy: 0.7007 - val_loss: 0.8633 - val_accuracy: 0.7000\n",
            "Epoch 7/30\n",
            "774/774 [==============================] - 5s 7ms/step - loss: 0.8039 - accuracy: 0.7174 - val_loss: 0.7945 - val_accuracy: 0.7080\n",
            "Epoch 8/30\n",
            "774/774 [==============================] - 5s 7ms/step - loss: 0.7527 - accuracy: 0.7343 - val_loss: 0.8551 - val_accuracy: 0.7080\n",
            "Epoch 9/30\n",
            "774/774 [==============================] - 5s 7ms/step - loss: 0.7278 - accuracy: 0.7403 - val_loss: 0.8423 - val_accuracy: 0.7200\n",
            "Epoch 10/30\n",
            "774/774 [==============================] - 5s 7ms/step - loss: 0.6941 - accuracy: 0.7531 - val_loss: 0.8015 - val_accuracy: 0.7080\n",
            "Epoch 11/30\n",
            "774/774 [==============================] - 5s 7ms/step - loss: 0.6571 - accuracy: 0.7680 - val_loss: 0.7959 - val_accuracy: 0.7320\n",
            "Epoch 12/30\n",
            "774/774 [==============================] - 5s 7ms/step - loss: 0.6315 - accuracy: 0.7766 - val_loss: 0.8239 - val_accuracy: 0.7260\n",
            "Epoch 13/30\n",
            "774/774 [==============================] - 5s 7ms/step - loss: 0.6035 - accuracy: 0.7849 - val_loss: 0.8468 - val_accuracy: 0.7100\n",
            "Epoch 14/30\n",
            "774/774 [==============================] - 5s 7ms/step - loss: 0.5790 - accuracy: 0.7934 - val_loss: 0.7967 - val_accuracy: 0.7280\n",
            "Epoch 15/30\n",
            "774/774 [==============================] - 5s 7ms/step - loss: 0.5561 - accuracy: 0.8001 - val_loss: 0.8454 - val_accuracy: 0.7400\n",
            "Epoch 16/30\n",
            "774/774 [==============================] - 5s 7ms/step - loss: 0.5344 - accuracy: 0.8088 - val_loss: 0.7732 - val_accuracy: 0.7600\n",
            "Epoch 17/30\n",
            "774/774 [==============================] - 5s 7ms/step - loss: 0.5133 - accuracy: 0.8153 - val_loss: 0.8904 - val_accuracy: 0.7160\n",
            "Epoch 18/30\n",
            "774/774 [==============================] - 5s 7ms/step - loss: 0.4938 - accuracy: 0.8244 - val_loss: 0.8629 - val_accuracy: 0.7400\n",
            "Epoch 19/30\n",
            "774/774 [==============================] - 5s 7ms/step - loss: 0.4690 - accuracy: 0.8321 - val_loss: 0.9156 - val_accuracy: 0.7300\n",
            "Epoch 20/30\n",
            "774/774 [==============================] - 5s 7ms/step - loss: 0.4559 - accuracy: 0.8349 - val_loss: 0.8780 - val_accuracy: 0.7280\n",
            "Epoch 21/30\n",
            "774/774 [==============================] - 5s 7ms/step - loss: 0.4345 - accuracy: 0.8432 - val_loss: 0.9064 - val_accuracy: 0.7320\n",
            "Epoch 22/30\n",
            "774/774 [==============================] - 5s 7ms/step - loss: 0.4251 - accuracy: 0.8484 - val_loss: 0.9178 - val_accuracy: 0.7400\n",
            "Epoch 23/30\n",
            "774/774 [==============================] - 5s 7ms/step - loss: 0.4060 - accuracy: 0.8544 - val_loss: 0.9304 - val_accuracy: 0.7600\n",
            "Epoch 24/30\n",
            "774/774 [==============================] - 5s 7ms/step - loss: 0.3953 - accuracy: 0.8563 - val_loss: 0.9259 - val_accuracy: 0.7280\n",
            "Epoch 25/30\n",
            "774/774 [==============================] - 5s 7ms/step - loss: 0.3745 - accuracy: 0.8647 - val_loss: 1.0084 - val_accuracy: 0.7400\n",
            "Epoch 26/30\n",
            "774/774 [==============================] - 5s 7ms/step - loss: 0.3658 - accuracy: 0.8665 - val_loss: 1.0254 - val_accuracy: 0.7420\n",
            "Epoch 27/30\n",
            "774/774 [==============================] - 5s 7ms/step - loss: 0.3438 - accuracy: 0.8756 - val_loss: 0.9545 - val_accuracy: 0.7240\n",
            "Epoch 28/30\n",
            "774/774 [==============================] - 5s 7ms/step - loss: 0.3420 - accuracy: 0.8756 - val_loss: 0.9996 - val_accuracy: 0.7460\n",
            "Epoch 29/30\n",
            "774/774 [==============================] - 5s 7ms/step - loss: 0.3244 - accuracy: 0.8823 - val_loss: 1.0032 - val_accuracy: 0.7360\n",
            "Epoch 30/30\n",
            "774/774 [==============================] - 5s 7ms/step - loss: 0.3223 - accuracy: 0.8822 - val_loss: 1.0662 - val_accuracy: 0.7200\n",
            "313/313 [==============================] - 1s 3ms/step - loss: 1.0388 - accuracy: 0.7274\n"
          ],
          "name": "stdout"
        },
        {
          "output_type": "execute_result",
          "data": {
            "text/plain": [
              "[1.038835883140564, 0.727400004863739]"
            ]
          },
          "metadata": {
            "tags": []
          },
          "execution_count": 16
        }
      ]
    },
    {
      "cell_type": "code",
      "metadata": {
        "id": "DaAEI5b0yTFp",
        "colab_type": "code",
        "colab": {}
      },
      "source": [
        "import matplotlib.pyplot as plt"
      ],
      "execution_count": 17,
      "outputs": []
    },
    {
      "cell_type": "code",
      "metadata": {
        "id": "B6adUYdSyUw2",
        "colab_type": "code",
        "colab": {
          "base_uri": "https://localhost:8080/",
          "height": 545
        },
        "outputId": "acc2a101-7ee6-4d2a-bb37-cb62ff8e082e"
      },
      "source": [
        "plt.plot(hist.history['loss'])\n",
        "plt.title(\"loss history\")\n",
        "plt.show()\n",
        "\n",
        "plt.plot(hist.history['accuracy'])\n",
        "plt.title(\"acc history\")\n",
        "plt.show()"
      ],
      "execution_count": 18,
      "outputs": [
        {
          "output_type": "display_data",
          "data": {
            "image/png": "[encoded data removed]",
            "text/plain": [
              "<Figure size 432x288 with 1 Axes>"
            ]
          },
          "metadata": {
            "tags": [],
            "needs_background": "light"
          }
        },
        {
          "output_type": "display_data",
          "data": {
            "image/png": "[encoded data removed]",
            "text/plain": [
              "<Figure size 432x288 with 1 Axes>"
            ]
          },
          "metadata": {
            "tags": [],
            "needs_background": "light"
          }
        }
      ]
    }
  ]
}